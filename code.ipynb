{
 "cells": [
  {
   "cell_type": "code",
   "execution_count": 6,
   "metadata": {},
   "outputs": [
    {
     "name": "stdout",
     "output_type": "stream",
     "text": [
      "standard deviation is 0.2339456407036963\n"
     ]
    }
   ],
   "source": [
    "import wfdb\n",
    "import math\n",
    "from wfdb import processing\n",
    "file_destination=r\"D:\\vf predict\\cu-ventricular-tachyarrhythmia-database-1.0.0\"+\"\\cu01\"\n",
    "\n",
    "def mean(file_destination):\n",
    "    sig, fields = wfdb.rdsamp(file_destination , channels=[0] ,sampto=40000 )\n",
    "    xqrs = processing.XQRS(sig=sig[:,0], fs=fields['fs'])\n",
    "    xqrs.detect()\n",
    "    print(fields)\n",
    "    wfdb.plot_items(signal=sig, ann_samp=[xqrs.qrs_inds] )\n",
    "\n",
    "    #sqrs.qrs_inds is array containing indexes of qrs ?\n",
    "    rpeaksum=0\n",
    "    for i in xqrs.qrs_inds:\n",
    "        rpeaksum+=sig[i]\n",
    "    \n",
    "    rmean=(rpeaksum/len(xqrs.qrs_inds))\n",
    "    print(\"mean is\",rmean)\n",
    "\n",
    "#finding standard deviation\n",
    "rstdsum=0\n",
    "for i in xqrs.qrs_inds:\n",
    "    rstdsum+=(sig[i]-rmean)**2\n",
    "rstd=math.sqrt(rstdsum/len(xqrs.qrs_inds))\n",
    "print(\"standard deviation is\",rstd)"
   ]
  },
  {
   "attachments": {},
   "cell_type": "markdown",
   "metadata": {},
   "source": [
    "Area??"
   ]
  },
  {
   "cell_type": "code",
   "execution_count": null,
   "metadata": {},
   "outputs": [],
   "source": []
  }
 ],
 "metadata": {
  "language_info": {
   "name": "python"
  },
  "orig_nbformat": 4
 },
 "nbformat": 4,
 "nbformat_minor": 2
}
